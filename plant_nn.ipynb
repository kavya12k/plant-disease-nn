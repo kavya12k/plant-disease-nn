{
  "nbformat": 4,
  "nbformat_minor": 0,
  "metadata": {
    "colab": {
      "provenance": [],
      "gpuType": "T4",
      "authorship_tag": "ABX9TyOsP5aQY97PDYJoa/NiTxhM"
    },
    "kernelspec": {
      "name": "python3",
      "display_name": "Python 3"
    },
    "language_info": {
      "name": "python"
    },
    "accelerator": "GPU"
  },
  "cells": [
    {
      "cell_type": "code",
      "execution_count": null,
      "metadata": {
        "colab": {
          "base_uri": "https://localhost:8080/",
          "height": 109
        },
        "id": "k-Gwmg5EoV62",
        "outputId": "e7adf6f3-35d6-4589-b135-5b4091f54b12"
      },
      "outputs": [
        {
          "output_type": "display_data",
          "data": {
            "text/plain": [
              "<IPython.core.display.HTML object>"
            ],
            "text/html": [
              "\n",
              "     <input type=\"file\" id=\"files-5630b022-61f2-41f3-b1bd-82c3cd7c75fe\" name=\"files[]\" multiple disabled\n",
              "        style=\"border:none\" />\n",
              "     <output id=\"result-5630b022-61f2-41f3-b1bd-82c3cd7c75fe\">\n",
              "      Upload widget is only available when the cell has been executed in the\n",
              "      current browser session. Please rerun this cell to enable.\n",
              "      </output>\n",
              "      <script>// Copyright 2017 Google LLC\n",
              "//\n",
              "// Licensed under the Apache License, Version 2.0 (the \"License\");\n",
              "// you may not use this file except in compliance with the License.\n",
              "// You may obtain a copy of the License at\n",
              "//\n",
              "//      http://www.apache.org/licenses/LICENSE-2.0\n",
              "//\n",
              "// Unless required by applicable law or agreed to in writing, software\n",
              "// distributed under the License is distributed on an \"AS IS\" BASIS,\n",
              "// WITHOUT WARRANTIES OR CONDITIONS OF ANY KIND, either express or implied.\n",
              "// See the License for the specific language governing permissions and\n",
              "// limitations under the License.\n",
              "\n",
              "/**\n",
              " * @fileoverview Helpers for google.colab Python module.\n",
              " */\n",
              "(function(scope) {\n",
              "function span(text, styleAttributes = {}) {\n",
              "  const element = document.createElement('span');\n",
              "  element.textContent = text;\n",
              "  for (const key of Object.keys(styleAttributes)) {\n",
              "    element.style[key] = styleAttributes[key];\n",
              "  }\n",
              "  return element;\n",
              "}\n",
              "\n",
              "// Max number of bytes which will be uploaded at a time.\n",
              "const MAX_PAYLOAD_SIZE = 100 * 1024;\n",
              "\n",
              "function _uploadFiles(inputId, outputId) {\n",
              "  const steps = uploadFilesStep(inputId, outputId);\n",
              "  const outputElement = document.getElementById(outputId);\n",
              "  // Cache steps on the outputElement to make it available for the next call\n",
              "  // to uploadFilesContinue from Python.\n",
              "  outputElement.steps = steps;\n",
              "\n",
              "  return _uploadFilesContinue(outputId);\n",
              "}\n",
              "\n",
              "// This is roughly an async generator (not supported in the browser yet),\n",
              "// where there are multiple asynchronous steps and the Python side is going\n",
              "// to poll for completion of each step.\n",
              "// This uses a Promise to block the python side on completion of each step,\n",
              "// then passes the result of the previous step as the input to the next step.\n",
              "function _uploadFilesContinue(outputId) {\n",
              "  const outputElement = document.getElementById(outputId);\n",
              "  const steps = outputElement.steps;\n",
              "\n",
              "  const next = steps.next(outputElement.lastPromiseValue);\n",
              "  return Promise.resolve(next.value.promise).then((value) => {\n",
              "    // Cache the last promise value to make it available to the next\n",
              "    // step of the generator.\n",
              "    outputElement.lastPromiseValue = value;\n",
              "    return next.value.response;\n",
              "  });\n",
              "}\n",
              "\n",
              "/**\n",
              " * Generator function which is called between each async step of the upload\n",
              " * process.\n",
              " * @param {string} inputId Element ID of the input file picker element.\n",
              " * @param {string} outputId Element ID of the output display.\n",
              " * @return {!Iterable<!Object>} Iterable of next steps.\n",
              " */\n",
              "function* uploadFilesStep(inputId, outputId) {\n",
              "  const inputElement = document.getElementById(inputId);\n",
              "  inputElement.disabled = false;\n",
              "\n",
              "  const outputElement = document.getElementById(outputId);\n",
              "  outputElement.innerHTML = '';\n",
              "\n",
              "  const pickedPromise = new Promise((resolve) => {\n",
              "    inputElement.addEventListener('change', (e) => {\n",
              "      resolve(e.target.files);\n",
              "    });\n",
              "  });\n",
              "\n",
              "  const cancel = document.createElement('button');\n",
              "  inputElement.parentElement.appendChild(cancel);\n",
              "  cancel.textContent = 'Cancel upload';\n",
              "  const cancelPromise = new Promise((resolve) => {\n",
              "    cancel.onclick = () => {\n",
              "      resolve(null);\n",
              "    };\n",
              "  });\n",
              "\n",
              "  // Wait for the user to pick the files.\n",
              "  const files = yield {\n",
              "    promise: Promise.race([pickedPromise, cancelPromise]),\n",
              "    response: {\n",
              "      action: 'starting',\n",
              "    }\n",
              "  };\n",
              "\n",
              "  cancel.remove();\n",
              "\n",
              "  // Disable the input element since further picks are not allowed.\n",
              "  inputElement.disabled = true;\n",
              "\n",
              "  if (!files) {\n",
              "    return {\n",
              "      response: {\n",
              "        action: 'complete',\n",
              "      }\n",
              "    };\n",
              "  }\n",
              "\n",
              "  for (const file of files) {\n",
              "    const li = document.createElement('li');\n",
              "    li.append(span(file.name, {fontWeight: 'bold'}));\n",
              "    li.append(span(\n",
              "        `(${file.type || 'n/a'}) - ${file.size} bytes, ` +\n",
              "        `last modified: ${\n",
              "            file.lastModifiedDate ? file.lastModifiedDate.toLocaleDateString() :\n",
              "                                    'n/a'} - `));\n",
              "    const percent = span('0% done');\n",
              "    li.appendChild(percent);\n",
              "\n",
              "    outputElement.appendChild(li);\n",
              "\n",
              "    const fileDataPromise = new Promise((resolve) => {\n",
              "      const reader = new FileReader();\n",
              "      reader.onload = (e) => {\n",
              "        resolve(e.target.result);\n",
              "      };\n",
              "      reader.readAsArrayBuffer(file);\n",
              "    });\n",
              "    // Wait for the data to be ready.\n",
              "    let fileData = yield {\n",
              "      promise: fileDataPromise,\n",
              "      response: {\n",
              "        action: 'continue',\n",
              "      }\n",
              "    };\n",
              "\n",
              "    // Use a chunked sending to avoid message size limits. See b/62115660.\n",
              "    let position = 0;\n",
              "    do {\n",
              "      const length = Math.min(fileData.byteLength - position, MAX_PAYLOAD_SIZE);\n",
              "      const chunk = new Uint8Array(fileData, position, length);\n",
              "      position += length;\n",
              "\n",
              "      const base64 = btoa(String.fromCharCode.apply(null, chunk));\n",
              "      yield {\n",
              "        response: {\n",
              "          action: 'append',\n",
              "          file: file.name,\n",
              "          data: base64,\n",
              "        },\n",
              "      };\n",
              "\n",
              "      let percentDone = fileData.byteLength === 0 ?\n",
              "          100 :\n",
              "          Math.round((position / fileData.byteLength) * 100);\n",
              "      percent.textContent = `${percentDone}% done`;\n",
              "\n",
              "    } while (position < fileData.byteLength);\n",
              "  }\n",
              "\n",
              "  // All done.\n",
              "  yield {\n",
              "    response: {\n",
              "      action: 'complete',\n",
              "    }\n",
              "  };\n",
              "}\n",
              "\n",
              "scope.google = scope.google || {};\n",
              "scope.google.colab = scope.google.colab || {};\n",
              "scope.google.colab._files = {\n",
              "  _uploadFiles,\n",
              "  _uploadFilesContinue,\n",
              "};\n",
              "})(self);\n",
              "</script> "
            ]
          },
          "metadata": {}
        },
        {
          "output_type": "stream",
          "name": "stdout",
          "text": [
            "Saving kaggle.json to kaggle.json\n",
            "Saving resnet18-f37072fd.pth to resnet18-f37072fd.pth\n"
          ]
        }
      ],
      "source": [
        "from google.colab import files\n",
        "uploaded = files.upload()"
      ]
    },
    {
      "cell_type": "code",
      "source": [
        "!pip install kaggle\n",
        "!mkdir -p ~/.kaggle\n",
        "!cp kaggle.json ~/.kaggle/\n",
        "!chmod 600 ~/.kaggle/kaggle.json\n",
        "!kaggle datasets download -d vipoooool/new-plant-diseases-dataset\n",
        "!unzip new-plant-diseases-dataset.zip -d /content/"
      ],
      "metadata": {
        "collapsed": true,
        "id": "psPRyrUGolol"
      },
      "execution_count": null,
      "outputs": []
    },
    {
      "cell_type": "code",
      "source": [
        "!ls -l /content\n",
        "import os\n",
        "#loads resnet network\n",
        "resnet = \"/content/resnet18-f37072fd.pth\"\n",
        "print(os.path.exists(resnet))"
      ],
      "metadata": {
        "colab": {
          "base_uri": "https://localhost:8080/"
        },
        "id": "c1G1tW9koz67",
        "outputId": "0a8d8c0d-c340-4dec-a4fd-db23795758e0"
      },
      "execution_count": null,
      "outputs": [
        {
          "output_type": "stream",
          "name": "stdout",
          "text": [
            "total 2875556\n",
            "-rw-r--r-- 1 root root         64 Sep  9 09:00  kaggle.json\n",
            "drwxr-xr-x 3 root root       4096 Sep  9 09:02 'new plant diseases dataset(augmented)'\n",
            "drwxr-xr-x 3 root root       4096 Sep  9 09:00 'New Plant Diseases Dataset(Augmented)'\n",
            "-rw-r--r-- 1 root root 2897709187 Oct 12  2019  new-plant-diseases-dataset.zip\n",
            "-rw-r--r-- 1 root root   46830571 Sep  9 09:00  resnet18-f37072fd.pth\n",
            "drwxr-xr-x 1 root root       4096 Sep  5 13:36  sample_data\n",
            "drwxr-xr-x 3 root root       4096 Sep  9 09:04  test\n",
            "True\n"
          ]
        }
      ]
    },
    {
      "cell_type": "code",
      "source": [
        "import torch\n",
        "from torchvision import datasets, transforms\n",
        "from torch.utils.data import DataLoader\n",
        "import numpy as np # linear algebra\n",
        "import pandas as pd\n",
        "\n",
        "# Paths\n",
        "baseDir = \"/content/New Plant Diseases Dataset(Augmented)/New Plant Diseases Dataset(Augmented)\"\n",
        "trainDir = f\"{baseDir}/train\"\n",
        "valDir = f\"{baseDir}/valid\"\n",
        "#testDir  = f\"{baseDir}/test/test\"\n",
        "# ignoring test for now!\n",
        "\n",
        "# get everything to be uniform so we can train (224,224) for ResNet\n",
        "# converts images to python Tensors (i.e. vectors)\n",
        "# must match ImageNet as we are using ResNET, so we normalize\n",
        "transform = transforms.Compose([\n",
        "    transforms.Resize((224, 224)),\n",
        "    transforms.ToTensor(),\n",
        "    transforms.Normalize([0.485, 0.456, 0.406],\n",
        "                         [0.229, 0.224, 0.225])\n",
        "])\n",
        "\n",
        "# put into datasets\n",
        "trainDS = datasets.ImageFolder(root=trainDir, transform=transform)\n",
        "valDS   = datasets.ImageFolder(root=valDir, transform=transform)\n",
        "#testDS  = datasets.ImageFolder(root=testDir, transform=transform)\n",
        "\n",
        "#js to check if loaded in our data correctly and with correct path\n",
        "print(\"Training classes:\", os.listdir(trainDir)[:10])\n",
        "print(\"Validator classes:\", os.listdir(valDir)[:10])\n",
        "#print(\"Test classes:\", os.listdir(test_dir)[:5])\n",
        "print(\"# of training images:\", len(trainDS))\n",
        "\n",
        "# feeding data by batch 32 into model + randomizes to model for better training\n",
        "trainLoader = DataLoader(trainDS, batch_size=32, shuffle=True)\n",
        "valLoader   = DataLoader(valDS, batch_size=32, shuffle=False)\n",
        "#testLoader  = DataLoader(testDS, batch_size=32, shuffle=False)\n"
      ],
      "metadata": {
        "colab": {
          "base_uri": "https://localhost:8080/"
        },
        "id": "g1zr0gq8qNZq",
        "outputId": "534b33b4-e1d1-4f08-ac63-e17c60c60c16"
      },
      "execution_count": null,
      "outputs": [
        {
          "output_type": "stream",
          "name": "stdout",
          "text": [
            "Training classes: ['Tomato___Early_blight', 'Tomato___Target_Spot', 'Tomato___Late_blight', 'Grape___Black_rot', 'Apple___healthy', 'Potato___Early_blight', 'Grape___healthy', 'Corn_(maize)___healthy', 'Corn_(maize)___Northern_Leaf_Blight', 'Strawberry___healthy']\n",
            "Validator classes: ['Tomato___Early_blight', 'Tomato___Target_Spot', 'Tomato___Late_blight', 'Grape___Black_rot', 'Apple___healthy', 'Potato___Early_blight', 'Grape___healthy', 'Corn_(maize)___healthy', 'Corn_(maize)___Northern_Leaf_Blight', 'Strawberry___healthy']\n",
            "# of training images: 70295\n"
          ]
        }
      ]
    },
    {
      "cell_type": "code",
      "source": [
        "import torchvision.models as models\n",
        "from torchvision.models import resnet18, ResNet18_Weights\n",
        "import torch.nn as nn\n",
        "import torch\n",
        "\n",
        "# we are using pre-trained resnet bc our dataset is wayyy too large to train every layer\n",
        "# rather, we will just train the final layer, which classifies plants\n",
        "# not something that needs to figure out how to read images as well\n",
        "model = resnet18(weights=None)\n",
        "pretrained_dict = torch.load(\"/content/resnet18-f37072fd.pth\")\n",
        "model_dict = model.state_dict()\n",
        "# filter out final layer which is fc\n",
        "pretrained_dict = {k: v for k, v in pretrained_dict.items() if k in model_dict and \"fc\" not in k}\n",
        "model_dict.update(pretrained_dict)\n",
        "model.load_state_dict(model_dict)\n",
        "\n",
        "#iterate through each neuron and doesn't allow for computing gradients (no backpropagation = no changing this layer)\n",
        "for param in model.parameters():\n",
        "    param.requires_grad = False\n",
        "for param in model.fc.parameters():\n",
        "    param.requires_grad = True\n",
        "\n",
        "#access last layer (model.fc) to change output to plant classification\n",
        "num_classes = len(trainDS.classes)\n",
        "model.fc = nn.Linear(model.fc.in_features, num_classes)"
      ],
      "metadata": {
        "id": "Kwl_0I-sq5rJ"
      },
      "execution_count": null,
      "outputs": []
    },
    {
      "cell_type": "code",
      "source": [
        "#using Colab's GPU space\n",
        "device = torch.device(\"cuda\" if torch.cuda.is_available() else \"cpu\")\n",
        "model = model.to(device)\n",
        "print(\"Using device:\", device)"
      ],
      "metadata": {
        "colab": {
          "base_uri": "https://localhost:8080/"
        },
        "id": "woWM_aW9rgQP",
        "outputId": "2745f6bf-2b1e-4e87-80a0-cf69830f47a6"
      },
      "execution_count": null,
      "outputs": [
        {
          "output_type": "stream",
          "name": "stdout",
          "text": [
            "Using device: cuda\n"
          ]
        }
      ]
    },
    {
      "cell_type": "code",
      "source": [
        "import torch.optim as optim\n",
        "import torch.nn as nn\n",
        "\n",
        "#calculate how close model prediction is to actual classification\n",
        "criterion = nn.CrossEntropyLoss()\n",
        "#optimizes based on gradients computed from loss on last layer\n",
        "optimizer = optim.Adam(model.fc.parameters(), lr=0.001)"
      ],
      "metadata": {
        "colab": {
          "base_uri": "https://localhost:8080/"
        },
        "id": "uyDl5YdErjrx",
        "outputId": "92012b44-f7b4-408f-8085-93dc8d519baa"
      },
      "execution_count": null,
      "outputs": [
        {
          "output_type": "stream",
          "name": "stdout",
          "text": [
            "cuda\n"
          ]
        }
      ]
    },
    {
      "cell_type": "code",
      "source": [
        "epochs = 10\n",
        "#10 iterations\n",
        "#tried with 2 epochs -> 95% accuracy\n",
        "for epoch in range(epochs):\n",
        "    # training mode - actually changes parameters\n",
        "    model.train()\n",
        "    runningLoss1, runningCorrects = 0.0, 0\n",
        "\n",
        "    #iterates through the random batches we defined in trainLoader above\n",
        "    for inputs, labels in trainLoader:\n",
        "        #put data on same device (gpu)\n",
        "        inputs, labels = inputs.to(device), labels.to(device)\n",
        "\n",
        "        #clear gradients, forward pass\n",
        "        optimizer.zero_grad()\n",
        "        outputs = model(inputs)\n",
        "\n",
        "        #compute loss, backward prop.\n",
        "        loss = criterion(outputs, labels)\n",
        "        loss.backward()\n",
        "\n",
        "        #applies this to model's paramaters\n",
        "        optimizer.step()\n",
        "\n",
        "        # from probability distribution, picks the class w greatest probability\n",
        "        preds = outputs.argmax(dim=1)\n",
        "        runningLoss1 += loss.item() * inputs.size(0)\n",
        "        runningCorrects += (preds == labels).sum().item()\n",
        "\n",
        "    #avg loss per image\n",
        "    trainLoss = runningLoss1 / len(trainDS)\n",
        "    trainAcc = runningCorrects / len(trainDS)\n",
        "\n",
        "    # validating mode - tests how well model does with current training\n",
        "    model.eval()\n",
        "    runningLoss2, valCorrects = 0.0, 0\n",
        "    with torch.no_grad():\n",
        "        for inputs, labels in valLoader:\n",
        "            #put data on same device (gpu)\n",
        "            inputs, labels = inputs.to(device), labels.to(device)\n",
        "            #forward pass\n",
        "            outputs = model(inputs)\n",
        "            #compute loss (no back-propagation bc we aren't training model here)\n",
        "            loss = criterion(outputs, labels)\n",
        "            # from probability distribution, picks the class w greatest probability\n",
        "            preds = outputs.argmax(dim=1)\n",
        "            runningLoss2 += loss.item() * inputs.size(0)\n",
        "            valCorrects += (preds == labels).sum().item()\n",
        "    #avg loss per image\n",
        "    valLoss = runningLoss2 / len(valDS)\n",
        "    valAcc = valCorrects / len(valDS)\n",
        "\n",
        "    print(f\"Epoch {epoch+1}/{epochs} | \"\n",
        "          f\"Train - Loss: {trainLoss:.4f}, Accuracy: {trainAcc:.4f} | \"\n",
        "          f\"Val - Loss: {valLoss:.4f}, Accuracy {valAcc:.4f}\")\n"
      ],
      "metadata": {
        "colab": {
          "base_uri": "https://localhost:8080/"
        },
        "id": "s6vyf_NTuToj",
        "outputId": "71fe4706-cbf5-4c99-ebc9-a80e5f05389e"
      },
      "execution_count": null,
      "outputs": [
        {
          "output_type": "stream",
          "name": "stdout",
          "text": [
            "Epoch 1/10 | Train - Loss: 0.1518, Accuracy: 0.9519 | Val - Loss: 0.1344, Accuracy 0.9569\n",
            "Epoch 2/10 | Train - Loss: 0.1340, Accuracy: 0.9558 | Val - Loss: 0.1176, Accuracy 0.9606\n",
            "Epoch 3/10 | Train - Loss: 0.1243, Accuracy: 0.9584 | Val - Loss: 0.1232, Accuracy 0.9585\n",
            "Epoch 4/10 | Train - Loss: 0.1149, Accuracy: 0.9614 | Val - Loss: 0.1115, Accuracy 0.9634\n",
            "Epoch 5/10 | Train - Loss: 0.1115, Accuracy: 0.9629 | Val - Loss: 0.1089, Accuracy 0.9637\n",
            "Epoch 6/10 | Train - Loss: 0.1034, Accuracy: 0.9654 | Val - Loss: 0.1086, Accuracy 0.9634\n",
            "Epoch 7/10 | Train - Loss: 0.1023, Accuracy: 0.9649 | Val - Loss: 0.1064, Accuracy 0.9648\n",
            "Epoch 8/10 | Train - Loss: 0.0989, Accuracy: 0.9661 | Val - Loss: 0.1205, Accuracy 0.9606\n",
            "Epoch 9/10 | Train - Loss: 0.0937, Accuracy: 0.9674 | Val - Loss: 0.1156, Accuracy 0.9606\n",
            "Epoch 10/10 | Train - Loss: 0.0933, Accuracy: 0.9669 | Val - Loss: 0.1010, Accuracy 0.9655\n"
          ]
        }
      ]
    },
    {
      "cell_type": "code",
      "source": [
        "# Epoch 10/10 | Train - Loss: 0.0933, Accuracy: 0.9669 | Val - Loss: 0.1010, Accuracy 0.9655, Time: 54m"
      ],
      "metadata": {
        "id": "Qvm_J_JxuXEt"
      },
      "execution_count": null,
      "outputs": []
    },
    {
      "cell_type": "code",
      "source": [
        "torch.save(model.state_dict(), \"plant_detect_resnet18_state.pth\")"
      ],
      "metadata": {
        "id": "vcwI-F-HAr7m"
      },
      "execution_count": null,
      "outputs": []
    },
    {
      "cell_type": "code",
      "source": [
        "from google.colab import files\n",
        "files.download(\"plant_detect_resnet18_state.pth\")"
      ],
      "metadata": {
        "colab": {
          "base_uri": "https://localhost:8080/",
          "height": 17
        },
        "id": "WJzmhZjvA1K_",
        "outputId": "cb84766c-60e5-4342-c392-edd78ab6a461"
      },
      "execution_count": null,
      "outputs": [
        {
          "output_type": "display_data",
          "data": {
            "text/plain": [
              "<IPython.core.display.Javascript object>"
            ],
            "application/javascript": [
              "\n",
              "    async function download(id, filename, size) {\n",
              "      if (!google.colab.kernel.accessAllowed) {\n",
              "        return;\n",
              "      }\n",
              "      const div = document.createElement('div');\n",
              "      const label = document.createElement('label');\n",
              "      label.textContent = `Downloading \"${filename}\": `;\n",
              "      div.appendChild(label);\n",
              "      const progress = document.createElement('progress');\n",
              "      progress.max = size;\n",
              "      div.appendChild(progress);\n",
              "      document.body.appendChild(div);\n",
              "\n",
              "      const buffers = [];\n",
              "      let downloaded = 0;\n",
              "\n",
              "      const channel = await google.colab.kernel.comms.open(id);\n",
              "      // Send a message to notify the kernel that we're ready.\n",
              "      channel.send({})\n",
              "\n",
              "      for await (const message of channel.messages) {\n",
              "        // Send a message to notify the kernel that we're ready.\n",
              "        channel.send({})\n",
              "        if (message.buffers) {\n",
              "          for (const buffer of message.buffers) {\n",
              "            buffers.push(buffer);\n",
              "            downloaded += buffer.byteLength;\n",
              "            progress.value = downloaded;\n",
              "          }\n",
              "        }\n",
              "      }\n",
              "      const blob = new Blob(buffers, {type: 'application/binary'});\n",
              "      const a = document.createElement('a');\n",
              "      a.href = window.URL.createObjectURL(blob);\n",
              "      a.download = filename;\n",
              "      div.appendChild(a);\n",
              "      a.click();\n",
              "      div.remove();\n",
              "    }\n",
              "  "
            ]
          },
          "metadata": {}
        },
        {
          "output_type": "display_data",
          "data": {
            "text/plain": [
              "<IPython.core.display.Javascript object>"
            ],
            "application/javascript": [
              "download(\"download_cb302ad4-b4a6-4f42-937e-5afb8ffc4860\", \"plant_detect_resnet18_state.pth\", 44865867)"
            ]
          },
          "metadata": {}
        }
      ]
    },
    {
      "cell_type": "code",
      "source": [
        "for name, param in model.named_parameters():\n",
        "    print(name, param.mean().item())"
      ],
      "metadata": {
        "colab": {
          "base_uri": "https://localhost:8080/"
        },
        "id": "i7Q2ZVapA-NJ",
        "outputId": "da34a74c-4e26-4e01-a6e3-9e52a9174644"
      },
      "execution_count": null,
      "outputs": [
        {
          "output_type": "stream",
          "name": "stdout",
          "text": [
            "conv1.weight 2.941970706160646e-05\n",
            "bn1.weight 0.25757724046707153\n",
            "bn1.bias 0.18112018704414368\n",
            "layer1.0.conv1.weight -0.0030870495829731226\n",
            "layer1.0.bn1.weight 0.3396005630493164\n",
            "layer1.0.bn1.bias -0.0341365709900856\n",
            "layer1.0.conv2.weight -0.0008893321501091123\n",
            "layer1.0.bn2.weight 0.33305495977401733\n",
            "layer1.0.bn2.bias 0.00346287339925766\n",
            "layer1.1.conv1.weight -0.00242004101164639\n",
            "layer1.1.bn1.weight 0.32869213819503784\n",
            "layer1.1.bn1.bias -0.08357393741607666\n",
            "layer1.1.conv2.weight -0.0012602501083165407\n",
            "layer1.1.bn2.weight 0.3924297094345093\n",
            "layer1.1.bn2.bias -0.029983950778841972\n",
            "layer2.0.conv1.weight -0.0014537476236000657\n",
            "layer2.0.bn1.weight 0.31641942262649536\n",
            "layer2.0.bn1.bias -0.06734631955623627\n",
            "layer2.0.conv2.weight -0.0012476658448576927\n",
            "layer2.0.bn2.weight 0.3275725841522217\n",
            "layer2.0.bn2.bias -0.003555297153070569\n",
            "layer2.0.downsample.0.weight -0.002587598981335759\n",
            "layer2.0.downsample.1.weight 0.19508540630340576\n",
            "layer2.0.downsample.1.bias -0.003555297153070569\n",
            "layer2.1.conv1.weight -0.0015302166575565934\n",
            "layer2.1.bn1.weight 0.3212640881538391\n",
            "layer2.1.bn1.bias -0.2102503776550293\n",
            "layer2.1.conv2.weight -0.0012723813997581601\n",
            "layer2.1.bn2.weight 0.28291094303131104\n",
            "layer2.1.bn2.bias -0.15128448605537415\n",
            "layer3.0.conv1.weight -0.0013684284640476108\n",
            "layer3.0.bn1.weight 0.31227532029151917\n",
            "layer3.0.bn1.bias -0.11478555202484131\n",
            "layer3.0.conv2.weight -0.0007866091327741742\n",
            "layer3.0.bn2.weight 0.32025015354156494\n",
            "layer3.0.bn2.bias -0.030766353011131287\n",
            "layer3.0.downsample.0.weight -0.0018958766013383865\n",
            "layer3.0.downsample.1.weight 0.08210360258817673\n",
            "layer3.0.downsample.1.bias -0.030766353011131287\n",
            "layer3.1.conv1.weight -0.0016618605004623532\n",
            "layer3.1.bn1.weight 0.27821099758148193\n",
            "layer3.1.bn1.bias -0.23746797442436218\n",
            "layer3.1.conv2.weight -0.001441393163986504\n",
            "layer3.1.bn2.weight 0.24584954977035522\n",
            "layer3.1.bn2.bias -0.16372345387935638\n",
            "layer4.0.conv1.weight -0.001564666861668229\n",
            "layer4.0.bn1.weight 0.2643175721168518\n",
            "layer4.0.bn1.bias -0.22572244703769684\n",
            "layer4.0.conv2.weight -0.0013029169058427215\n",
            "layer4.0.bn2.weight 0.4243190288543701\n",
            "layer4.0.bn2.bias -0.19763392210006714\n",
            "layer4.0.downsample.0.weight -0.0008430479210801423\n",
            "layer4.0.downsample.1.weight 0.25064173340797424\n",
            "layer4.0.downsample.1.bias -0.19763392210006714\n",
            "layer4.1.conv1.weight -0.0022610959131270647\n",
            "layer4.1.bn1.weight 0.28860005736351013\n",
            "layer4.1.bn1.bias -0.24174048006534576\n",
            "layer4.1.conv2.weight -0.0001077137203537859\n",
            "layer4.1.bn2.weight 1.8538098335266113\n",
            "layer4.1.bn2.bias 0.27382200956344604\n",
            "fc.weight -0.03883348032832146\n",
            "fc.bias -0.0035989880561828613\n"
          ]
        }
      ]
    },
    {
      "cell_type": "code",
      "source": [],
      "metadata": {
        "id": "8s76kZujI69Y"
      },
      "execution_count": null,
      "outputs": []
    }
  ]
}